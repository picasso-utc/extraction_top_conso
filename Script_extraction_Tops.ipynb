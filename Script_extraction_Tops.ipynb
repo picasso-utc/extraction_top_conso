{
 "cells": [
  {
   "cell_type": "code",
   "execution_count": 234,
   "id": "27f47185",
   "metadata": {},
   "outputs": [],
   "source": [
    "import requests\n",
    "import pandas as pd"
   ]
  },
  {
   "cell_type": "code",
   "execution_count": 235,
   "id": "b5d2ae31",
   "metadata": {},
   "outputs": [],
   "source": [
    "# fonction aggrégation\n",
    "def getTop10_Article(data,article):\n",
    "    aggreg = data[data.nom_article.eq(article)]\\\n",
    "                    .groupby(by=[\"nom_article\",\"id_acheteur\",\"prenom\",\"nom\"])\\\n",
    "                    .agg({\"quantite\":\"sum\",\"total\":\"sum\"})\n",
    "\n",
    "    return aggreg.sort_values(by=[\"total\"],ascending=False).head(10)"
   ]
  },
  {
   "cell_type": "code",
   "execution_count": 331,
   "id": "6e786514",
   "metadata": {},
   "outputs": [],
   "source": [
    "# fonction aggrégation catégorie\n",
    "def getTop10_Famille(data,famille):\n",
    "    aggreg = data[data.famille_article.eq(famille)]\\\n",
    "                    .groupby(by=[\"famille_article\",\"id_acheteur\",\"prenom\",\"nom\"])\\\n",
    "                    .agg({\"quantite\":\"sum\",\"total\":\"sum\"})\n",
    "\n",
    "    return aggreg.sort_values(by=[\"quantite\"],ascending=False).head(10)"
   ]
  },
  {
   "cell_type": "code",
   "execution_count": 236,
   "id": "0a339d3b",
   "metadata": {},
   "outputs": [],
   "source": [
    "def exportTop(file,data,liste_article):\n",
    "    with pd.ExcelWriter(file) as writer:  \n",
    "        for article in liste_article : \n",
    "            getTop10_Article(data,article).to_excel(writer, sheet_name=article)\n",
    "    return 1"
   ]
  },
  {
   "cell_type": "code",
   "execution_count": 302,
   "id": "e2130af1",
   "metadata": {},
   "outputs": [],
   "source": [
    "def exportTopFamille(file,data,liste_famille):\n",
    "    with pd.ExcelWriter(file) as writer:  \n",
    "        for famille in liste_famille : \n",
    "            getTop10_Famille(data,famille).to_excel(writer, sheet_name=famille)\n",
    "    return 1"
   ]
  },
  {
   "cell_type": "code",
   "execution_count": 237,
   "id": "17867d41",
   "metadata": {},
   "outputs": [],
   "source": [
    "# import données \n",
    "data = pd.read_excel(\"data_export.xlsx\",engine=\"openpyxl\")"
   ]
  },
  {
   "cell_type": "code",
   "execution_count": 238,
   "id": "36836d2f",
   "metadata": {},
   "outputs": [],
   "source": [
    "# changement nom colonnes\n",
    "data.columns = [\"id_transac\",\"date_transac\",\"id_acheteur\",\"prenom\",\"nom\",\n",
    "                \"id_article\",\"nom_article\",\"famille_article\",\"quantite\",\"total\"]"
   ]
  },
  {
   "cell_type": "markdown",
   "id": "2acb80cd",
   "metadata": {},
   "source": [
    "# Top Catégories"
   ]
  },
  {
   "cell_type": "code",
   "execution_count": 309,
   "id": "7ea581a7",
   "metadata": {},
   "outputs": [],
   "source": [
    "liste_famille = [\"Bières pression\",\"Bières bouteilles\",\"Snacks Sucrés\",\"Snacks Salés\",\"Petit Dej\",\"Softs\",\n",
    "                 \"Repas\",\"Pampryl\"]"
   ]
  },
  {
   "cell_type": "code",
   "execution_count": 310,
   "id": "223e1696",
   "metadata": {},
   "outputs": [
    {
     "data": {
      "text/plain": [
       "1"
      ]
     },
     "execution_count": 310,
     "metadata": {},
     "output_type": "execute_result"
    }
   ],
   "source": [
    "file = \"~/Desktop/Picasso/Tops/Top_Catégories.xlsx\" \n",
    "exportTopFamille(file,data,liste_famille)"
   ]
  },
  {
   "cell_type": "markdown",
   "id": "b27e35d7",
   "metadata": {},
   "source": [
    "# Top Dépenses"
   ]
  },
  {
   "cell_type": "code",
   "execution_count": 328,
   "id": "55988ba1",
   "metadata": {},
   "outputs": [],
   "source": [
    "top_depenses = data.groupby(by=[\"prenom\",\"nom\"])\\\n",
    "    .agg({\"total\":\"sum\"}).sort_values(by=\"total\",ascending=False).head(10)"
   ]
  },
  {
   "cell_type": "code",
   "execution_count": 330,
   "id": "2e350cd1",
   "metadata": {},
   "outputs": [],
   "source": [
    "file = \"~/Desktop/Picasso/Tops/Top_Depenses.xlsx\" \n",
    "top_depenses.to_excel(file, sheet_name='Dépenses')"
   ]
  },
  {
   "cell_type": "markdown",
   "id": "6d306c67",
   "metadata": {},
   "source": [
    "# Top Bières Pression"
   ]
  },
  {
   "cell_type": "code",
   "execution_count": 278,
   "id": "c4bc510f",
   "metadata": {},
   "outputs": [],
   "source": [
    "data_biere_pression = data[data.famille_article.eq(\"Bières pression\")]"
   ]
  },
  {
   "cell_type": "code",
   "execution_count": 279,
   "id": "b7e83edf",
   "metadata": {},
   "outputs": [],
   "source": [
    "# visualisation liste bières pression\n",
    "bieres_liste_brut = data_biere_pression.groupby(by=[\"id_article\",\"nom_article\"])\\\n",
    "    .agg({\"quantite\":\"sum\"}).reset_index().sort_values(by=\"quantite\",ascending=False)\n",
    "biere_liste = bieres_liste_brut.nom_article.to_list()[0:9] # "
   ]
  },
  {
   "cell_type": "code",
   "execution_count": 280,
   "id": "d893e39c",
   "metadata": {},
   "outputs": [
    {
     "data": {
      "text/plain": [
       "1"
      ]
     },
     "execution_count": 280,
     "metadata": {},
     "output_type": "execute_result"
    }
   ],
   "source": [
    "file = \"~/Desktop/Picasso/Tops/Top_Pression.xlsx\" \n",
    "exportTop(file,data_biere_pression,biere_liste)"
   ]
  },
  {
   "cell_type": "markdown",
   "id": "b22129c4",
   "metadata": {},
   "source": [
    "# Top Bières bouteilles"
   ]
  },
  {
   "cell_type": "code",
   "execution_count": 281,
   "id": "fd638cfc",
   "metadata": {},
   "outputs": [],
   "source": [
    "data_biere_bouteille = data[data.famille_article.eq(\"Bières bouteilles\")]"
   ]
  },
  {
   "cell_type": "code",
   "execution_count": 282,
   "id": "2459a04a",
   "metadata": {},
   "outputs": [],
   "source": [
    "# visualisation liste bières pression\n",
    "bouteille_liste_brut = data_biere_bouteille.groupby(by=[\"id_article\",\"nom_article\"])\\\n",
    "    .agg({\"quantite\":\"sum\"}).reset_index().sort_values(by=\"quantite\",ascending=False)\n",
    "biere_bouteille_liste = bouteille_liste_brut.nom_article.to_list() "
   ]
  },
  {
   "cell_type": "code",
   "execution_count": 283,
   "id": "4579adf4",
   "metadata": {},
   "outputs": [
    {
     "data": {
      "text/plain": [
       "1"
      ]
     },
     "execution_count": 283,
     "metadata": {},
     "output_type": "execute_result"
    }
   ],
   "source": [
    "file = \"~/Desktop/Picasso/Tops/Top_Bouteille.xlsx\" \n",
    "exportTop(file,data_biere_bouteille,biere_bouteille_liste)"
   ]
  },
  {
   "cell_type": "markdown",
   "id": "2dfa4dd8",
   "metadata": {},
   "source": [
    "# Softs "
   ]
  },
  {
   "cell_type": "code",
   "execution_count": 250,
   "id": "0dcf2655",
   "metadata": {},
   "outputs": [],
   "source": [
    "data_softs = data[data.famille_article.eq(\"Softs\")]"
   ]
  },
  {
   "cell_type": "code",
   "execution_count": 251,
   "id": "15c392fa",
   "metadata": {},
   "outputs": [],
   "source": [
    "# liste softs\n",
    "softs_brut = data_softs.groupby(by=[\"id_article\",\"nom_article\"])\\\n",
    "    .agg({\"quantite\":\"sum\"}).reset_index().sort_values(by=\"quantite\",ascending=False)\n",
    "softs_liste = softs_brut.nom_article.to_list() "
   ]
  },
  {
   "cell_type": "code",
   "execution_count": 252,
   "id": "20f06d79",
   "metadata": {},
   "outputs": [],
   "source": [
    "softs_liste = softs_liste[0:len(softs_liste)-4]"
   ]
  },
  {
   "cell_type": "code",
   "execution_count": 253,
   "id": "e97cee78",
   "metadata": {},
   "outputs": [
    {
     "data": {
      "text/plain": [
       "1"
      ]
     },
     "execution_count": 253,
     "metadata": {},
     "output_type": "execute_result"
    }
   ],
   "source": [
    "file = \"~/Desktop/Picasso/Tops/Top_Softs.xlsx\" \n",
    "exportTop(file,data_softs,softs_liste)"
   ]
  },
  {
   "cell_type": "markdown",
   "id": "d44986ea",
   "metadata": {},
   "source": [
    "# Snacks sucrés"
   ]
  },
  {
   "cell_type": "code",
   "execution_count": 254,
   "id": "bc99204c",
   "metadata": {},
   "outputs": [],
   "source": [
    "data_snacks_sucres = data[data.famille_article.eq(\"Snacks Sucrés\")]"
   ]
  },
  {
   "cell_type": "code",
   "execution_count": 255,
   "id": "a7419bae",
   "metadata": {},
   "outputs": [],
   "source": [
    "data_snacks_sucres = data_snacks_sucres.replace('Mini Brioche Pepites de Chocolat','Mini Brioche')\n",
    "data_snacks_sucres = data_snacks_sucres.replace('Cookies Choco Noisette Naten BIO','Cookie Naten')"
   ]
  },
  {
   "cell_type": "code",
   "execution_count": 256,
   "id": "5994bbc1",
   "metadata": {},
   "outputs": [],
   "source": [
    "# liste softs\n",
    "snacks_sucre_brut = data_snacks_sucres.groupby(by=[\"id_article\",\"nom_article\"])\\\n",
    "    .agg({\"quantite\":\"sum\"}).reset_index().sort_values(by=\"quantite\",ascending=False)\n",
    "snacks_sucre_liste = snacks_sucre_brut.nom_article.to_list() "
   ]
  },
  {
   "cell_type": "code",
   "execution_count": 257,
   "id": "90804ffa",
   "metadata": {},
   "outputs": [],
   "source": [
    "snacks_sucre_liste=snacks_sucre_liste[0:len(snacks_sucre_liste)-3]"
   ]
  },
  {
   "cell_type": "code",
   "execution_count": 258,
   "id": "d2910033",
   "metadata": {},
   "outputs": [
    {
     "data": {
      "text/plain": [
       "1"
      ]
     },
     "execution_count": 258,
     "metadata": {},
     "output_type": "execute_result"
    }
   ],
   "source": [
    "file = \"~/Desktop/Picasso/Tops/Top_Snacks_Sucrés.xlsx\" \n",
    "exportTop(file,data_snacks_sucres,snacks_sucre_liste)"
   ]
  },
  {
   "cell_type": "markdown",
   "id": "2b5c2971",
   "metadata": {},
   "source": [
    "# Snacks salés"
   ]
  },
  {
   "cell_type": "code",
   "execution_count": 288,
   "id": "fb0aa535",
   "metadata": {},
   "outputs": [],
   "source": [
    "data_snacks_sales = data[data.famille_article.eq(\"Snacks Salés\")]"
   ]
  },
  {
   "cell_type": "code",
   "execution_count": 289,
   "id": "7562aa4a",
   "metadata": {},
   "outputs": [],
   "source": [
    "data_snacks_sales = data_snacks_sales.replace('1/3 baguette','tiers baguette')\n",
    "data_snacks_sales = data_snacks_sales.replace('Pringle\\'s - Sour Cream + surprise','Pringle\\'s Sour Cream')                                               "
   ]
  },
  {
   "cell_type": "code",
   "execution_count": 290,
   "id": "cab60612",
   "metadata": {},
   "outputs": [],
   "source": [
    "# liste sales\n",
    "snacks_sale_brut = data_snacks_sales.groupby(by=[\"id_article\",\"nom_article\"])\\\n",
    "    .agg({\"quantite\":\"sum\"}).reset_index().sort_values(by=\"quantite\",ascending=False)\n",
    "snacks_sale_liste = snacks_sale_brut.nom_article.to_list() "
   ]
  },
  {
   "cell_type": "code",
   "execution_count": 291,
   "id": "290b4567",
   "metadata": {},
   "outputs": [
    {
     "data": {
      "text/plain": [
       "1"
      ]
     },
     "execution_count": 291,
     "metadata": {},
     "output_type": "execute_result"
    }
   ],
   "source": [
    "file = \"~/Desktop/Picasso/Tops/Top_Snacks_Salés.xlsx\" \n",
    "exportTop(file,data_snacks_sales,snacks_sale_liste)"
   ]
  },
  {
   "cell_type": "markdown",
   "id": "8a21c582",
   "metadata": {},
   "source": [
    "# Repas"
   ]
  },
  {
   "cell_type": "code",
   "execution_count": 263,
   "id": "7a7a9667",
   "metadata": {},
   "outputs": [],
   "source": [
    "data_repas = data[data.famille_article.eq(\"Repas\")]"
   ]
  },
  {
   "cell_type": "code",
   "execution_count": 264,
   "id": "8159bbc3",
   "metadata": {},
   "outputs": [
    {
     "name": "stderr",
     "output_type": "stream",
     "text": [
      "/opt/anaconda3/lib/python3.7/site-packages/pandas/core/indexing.py:1817: SettingWithCopyWarning: \n",
      "A value is trying to be set on a copy of a slice from a DataFrame.\n",
      "Try using .loc[row_indexer,col_indexer] = value instead\n",
      "\n",
      "See the caveats in the documentation: https://pandas.pydata.org/pandas-docs/stable/user_guide/indexing.html#returning-a-view-versus-a-copy\n",
      "  self._setitem_single_column(loc, value, pi)\n"
     ]
    }
   ],
   "source": [
    "data_repas.loc[data_repas.nom_article.str.contains(\"Sandwich triangle\"),\"nom_article\"]=\"Sandwich triangle\"\n",
    "data_repas.loc[data_repas.nom_article.str.contains(\"Salade Saveur\"),\"nom_article\"]=\"Salade Saveur\""
   ]
  },
  {
   "cell_type": "code",
   "execution_count": 265,
   "id": "4ab64b51",
   "metadata": {},
   "outputs": [],
   "source": [
    "# liste sales\n",
    "repas_brut = data_repas.groupby(by=[\"id_article\",\"nom_article\"])\\\n",
    "    .agg({\"quantite\":\"sum\"}).reset_index().sort_values(by=\"quantite\",ascending=False)\n",
    "repas_liste = repas_brut.nom_article.to_list() "
   ]
  },
  {
   "cell_type": "code",
   "execution_count": 266,
   "id": "5e2603a1",
   "metadata": {},
   "outputs": [],
   "source": [
    "repas_liste=repas_liste[0:len(snacks_sale_liste)-1]"
   ]
  },
  {
   "cell_type": "code",
   "execution_count": 267,
   "id": "53dea4d8",
   "metadata": {},
   "outputs": [
    {
     "data": {
      "text/plain": [
       "1"
      ]
     },
     "execution_count": 267,
     "metadata": {},
     "output_type": "execute_result"
    }
   ],
   "source": [
    "file = \"~/Desktop/Picasso/Tops/Top_Repas.xlsx\" \n",
    "exportTop(file,data_repas,repas_liste)"
   ]
  },
  {
   "cell_type": "markdown",
   "id": "1676a9cb",
   "metadata": {},
   "source": [
    "# Pampryl"
   ]
  },
  {
   "cell_type": "code",
   "execution_count": 268,
   "id": "d6465732",
   "metadata": {},
   "outputs": [],
   "source": [
    "data_pampryl = data[data.famille_article.eq(\"Pampryl\")]"
   ]
  },
  {
   "cell_type": "code",
   "execution_count": 269,
   "id": "7dc92b30",
   "metadata": {},
   "outputs": [],
   "source": [
    "# liste sales\n",
    "pampryl_brut = data_pampryl.groupby(by=[\"id_article\",\"nom_article\"])\\\n",
    "    .agg({\"quantite\":\"sum\"}).reset_index().sort_values(by=\"quantite\",ascending=False)\n",
    "pampryl_liste = pampryl_brut.nom_article.to_list() "
   ]
  },
  {
   "cell_type": "code",
   "execution_count": 270,
   "id": "a0b44e10",
   "metadata": {},
   "outputs": [
    {
     "data": {
      "text/plain": [
       "1"
      ]
     },
     "execution_count": 270,
     "metadata": {},
     "output_type": "execute_result"
    }
   ],
   "source": [
    "file = \"~/Desktop/Picasso/Tops/Top_Pampryl.xlsx\" \n",
    "exportTop(file,data_pampryl,pampryl_liste)"
   ]
  },
  {
   "cell_type": "markdown",
   "id": "0010f80e",
   "metadata": {},
   "source": [
    "# Petit dej"
   ]
  },
  {
   "cell_type": "code",
   "execution_count": 271,
   "id": "c25ffc48",
   "metadata": {},
   "outputs": [],
   "source": [
    "data_ptitdej = data[data.famille_article.eq(\"Petit Dej\")]"
   ]
  },
  {
   "cell_type": "code",
   "execution_count": 272,
   "id": "1405ca44",
   "metadata": {},
   "outputs": [],
   "source": [
    "# liste sales\n",
    "ptitdej_brut = data_ptitdej.groupby(by=[\"id_article\",\"nom_article\"])\\\n",
    "    .agg({\"quantite\":\"sum\"}).reset_index().sort_values(by=\"quantite\",ascending=False)\n",
    "ptitdej_liste = ptitdej_brut.nom_article.to_list() "
   ]
  },
  {
   "cell_type": "code",
   "execution_count": 273,
   "id": "9f136338",
   "metadata": {},
   "outputs": [],
   "source": [
    "ptitdej_liste=ptitdej_liste[0:len(snacks_sale_liste)-2]"
   ]
  },
  {
   "cell_type": "code",
   "execution_count": 274,
   "id": "d279f1a9",
   "metadata": {},
   "outputs": [
    {
     "data": {
      "text/plain": [
       "1"
      ]
     },
     "execution_count": 274,
     "metadata": {},
     "output_type": "execute_result"
    }
   ],
   "source": [
    "file = \"~/Desktop/Picasso/Tops/Top_Petit_Dej.xlsx\" \n",
    "exportTop(file,data_ptitdej,ptitdej_liste)"
   ]
  },
  {
   "cell_type": "markdown",
   "id": "6cf0bf7a",
   "metadata": {},
   "source": [
    "# Top Famille"
   ]
  },
  {
   "cell_type": "code",
   "execution_count": 292,
   "id": "95e45561",
   "metadata": {},
   "outputs": [],
   "source": [
    "top_catégorie = data[data.famille_article.eq(\"Pression\")].groupby(by=[\"\"])\\\n",
    "    .agg({\"quantite\":\"sum\"}).reset_index().sort_values(by=\"quantite\",ascending=False)"
   ]
  }
 ],
 "metadata": {
  "kernelspec": {
   "display_name": "Python 3 (ipykernel)",
   "language": "python",
   "name": "python3"
  },
  "language_info": {
   "codemirror_mode": {
    "name": "ipython",
    "version": 3
   },
   "file_extension": ".py",
   "mimetype": "text/x-python",
   "name": "python",
   "nbconvert_exporter": "python",
   "pygments_lexer": "ipython3",
   "version": "3.7.6"
  }
 },
 "nbformat": 4,
 "nbformat_minor": 5
}
